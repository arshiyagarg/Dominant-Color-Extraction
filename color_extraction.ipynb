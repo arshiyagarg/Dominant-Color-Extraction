{
 "cells": [
  {
   "cell_type": "code",
   "execution_count": 1,
   "id": "6d27d637-3f0d-4fd3-8164-eae8f17f2883",
   "metadata": {},
   "outputs": [],
   "source": [
    "import matplotlib.pyplot as plt\n",
    "import cv2\n",
    "import numpy as np\n",
    "from sklearn.cluster import KMeans"
   ]
  },
  {
   "cell_type": "code",
   "execution_count": 2,
   "id": "2c5e2525-3057-4e9b-a2aa-743d246f4eb9",
   "metadata": {},
   "outputs": [],
   "source": [
    "def read_image(image,k):\n",
    "        img = cv2.imread(image)\n",
    "        img = cv2.cvtColor(img,cv2.COLOR_BGR2RGB)\n",
    "\n",
    "        x,y,c = img.shape\n",
    "        new_x = int(x/4)\n",
    "        new_y = int(y/4)\n",
    "        img = cv2.resize(img,(new_x,new_y))\n",
    "        X = img.reshape((-1,3))\n",
    "\n",
    "        color_extraction(X,k,img)"
   ]
  },
  {
   "cell_type": "code",
   "execution_count": 3,
   "id": "c0073f31-1d28-49b8-800a-85aa961ff622",
   "metadata": {},
   "outputs": [],
   "source": [
    "def color_extraction(X,k,img):\n",
    "    model = KMeans(n_clusters=k)\n",
    "    model.fit(X)\n",
    "    centroids = model.cluster_centers_\n",
    "    colors = np.array(centroids,dtype='uint8')\n",
    "\n",
    "    cnt = 1\n",
    "    for color in colors:\n",
    "        plt.subplot(1,k,cnt)\n",
    "        cnt += 1\n",
    "        plt.axis('off')\n",
    "        mat = np.zeros((100,100,3),dtype='uint8')\n",
    "        mat[:,:,:] = color\n",
    "        plt.imshow(mat)\n",
    "    # label = model.labels_;\n",
    "    # reconstruction_of_image(colors,img,label)\n",
    "    \n",
    "    plt.show()"
   ]
  },
  {
   "cell_type": "code",
   "execution_count": 4,
   "id": "fdd683d5-185b-4dc9-b1ea-4026e8fdd001",
   "metadata": {},
   "outputs": [],
   "source": [
    "# def reconstruction_of_image(colors,img,label):\n",
    "#     x,y,c = img.shape\n",
    "#     X = x*y\n",
    "#     newImg = np.zeros((X,3),dtype='uint8')\n",
    "#     for i in range(X):\n",
    "#         newImg[i] = label[i]\n",
    "#     newImg.resize((int(x/4),int(y/4), 3))    \n",
    "#     plt.axis('off')\n",
    "#     plt.imshow(newImg)\n",
    "#     plt.show()"
   ]
  },
  {
   "cell_type": "code",
   "execution_count": 5,
   "id": "d5efdc43-3a96-407e-8e98-61b12b2b2392",
   "metadata": {},
   "outputs": [
    {
     "name": "stdin",
     "output_type": "stream",
     "text": [
      "Enter the file name with type:  color_extraction.jpeg\n",
      "Enter number of colors to be extracted:  5\n"
     ]
    },
    {
     "name": "stderr",
     "output_type": "stream",
     "text": [
      "C:\\Users\\ARSHIYA\\anaconda3\\Lib\\site-packages\\sklearn\\cluster\\_kmeans.py:870: FutureWarning: The default value of `n_init` will change from 10 to 'auto' in 1.4. Set the value of `n_init` explicitly to suppress the warning\n",
      "  warnings.warn(\n",
      "C:\\Users\\ARSHIYA\\anaconda3\\Lib\\site-packages\\sklearn\\cluster\\_kmeans.py:1382: UserWarning: KMeans is known to have a memory leak on Windows with MKL, when there are less chunks than available threads. You can avoid it by setting the environment variable OMP_NUM_THREADS=13.\n",
      "  warnings.warn(\n"
     ]
    },
    {
     "data": {
      "image/png": "[encoded data removed]",
      "text/plain": [
       "<Figure size 640x480 with 5 Axes>"
      ]
     },
     "metadata": {},
     "output_type": "display_data"
    }
   ],
   "source": [
    "name = input(\"Enter the file name with type: \")\n",
    "k = int(input(\"Enter number of colors to be extracted: \"))\n",
    "read_image(name,k)"
   ]
  },
  {
   "cell_type": "code",
   "execution_count": null,
   "id": "43f72063-810b-4c0c-97d9-6a79c4007618",
   "metadata": {},
   "outputs": [],
   "source": []
  }
 ],
 "metadata": {
  "kernelspec": {
   "display_name": "Python 3 (ipykernel)",
   "language": "python",
   "name": "python3"
  },
  "language_info": {
   "codemirror_mode": {
    "name": "ipython",
    "version": 3
   },
   "file_extension": ".py",
   "mimetype": "text/x-python",
   "name": "python",
   "nbconvert_exporter": "python",
   "pygments_lexer": "ipython3",
   "version": "3.11.7"
  }
 },
 "nbformat": 4,
 "nbformat_minor": 5
}
